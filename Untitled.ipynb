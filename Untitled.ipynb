{
 "cells": [
  {
   "cell_type": "code",
   "execution_count": 4,
   "id": "93fbbd1d",
   "metadata": {},
   "outputs": [],
   "source": [
    "import cv2\n",
    "import numpy as np"
   ]
  },
  {
   "cell_type": "code",
   "execution_count": 5,
   "id": "63f44832",
   "metadata": {},
   "outputs": [],
   "source": [
    "classifier = cv2.CascadeClassifier('haarcascade_frontalface_default.xml')"
   ]
  },
  {
   "cell_type": "code",
   "execution_count": 6,
   "id": "6d4292fe",
   "metadata": {},
   "outputs": [],
   "source": [
    "im = cv2.imread('test1.jpg')\n",
    "\n",
    "bboxes = classifier.detectMultiScale(im)"
   ]
  },
  {
   "cell_type": "code",
   "execution_count": 7,
   "id": "5d84ec13",
   "metadata": {},
   "outputs": [],
   "source": [
    "for box in bboxes:\n",
    "    x, y, width, height = box\n",
    "    x2, y2 = x + width, y + height\n",
    "    im[y:y2, x:x2] = cv2.medianBlur(im[y:y2, x:x2], 35)"
   ]
  },
  {
   "cell_type": "code",
   "execution_count": null,
   "id": "e6bdf683",
   "metadata": {},
   "outputs": [],
   "source": [
    "cv2.imshow('face detection', im)\n",
    "cv2.waitKey(0)\n",
    "cv2.destroyAllWindows()"
   ]
  },
  {
   "cell_type": "code",
   "execution_count": 10,
   "id": "111f99c4",
   "metadata": {},
   "outputs": [],
   "source": [
    "def edge_mask(img, line_size, blur_value):\n",
    "    gray = cv2.cvtColor(img, cv2.COLOR_BGR2GRAY)\n",
    "    gray_blur = cv2.medianBlur(gray, blur_value)\n",
    "    edges = cv2.adaptiveThreshold(gray_blur, 255, cv2.ADAPTIVE_THRESH_MEAN_C, cv2.THRESH_BINARY, line_size, blur_value)\n",
    "    return edges\n"
   ]
  },
  {
   "cell_type": "code",
   "execution_count": 11,
   "id": "72352c71",
   "metadata": {},
   "outputs": [],
   "source": [
    "def color_quantization(img, k):\n",
    "    data = np.float32(img).reshape((-1, 3))\n",
    "\n",
    "    criteria = (cv2.TERM_CRITERIA_EPS + cv2.TERM_CRITERIA_MAX_ITER, 20, 0.001)\n",
    "\n",
    "    ret, label, center = cv2.kmeans(data, k, None, criteria, 10, cv2.KMEANS_RANDOM_CENTERS)\n",
    "    center = np.uint8(center)\n",
    "    result = center[label.flatten()]\n",
    "    result = result.reshape(img.shape)\n",
    "    return result"
   ]
  },
  {
   "cell_type": "code",
   "execution_count": 12,
   "id": "8b1da346",
   "metadata": {},
   "outputs": [],
   "source": [
    "def cartoon(img):\n",
    "\n",
    "    data = np.float32(img).reshape((-1, 3))\n",
    "    line_size = 7\n",
    "    blur_value = 7\n",
    "\n",
    "    edges = edge_mask(img, line_size, blur_value)\n",
    "    total_color = 20\n",
    "    img = color_quantization(img, total_color)\n",
    "    blurred = cv2.bilateralFilter(img, d=7, sigmaColor=200,sigmaSpace=200)\n",
    "    cartoon = cv2.bitwise_and(blurred, blurred, mask=edges)\n",
    "    return cartoon"
   ]
  },
  {
   "cell_type": "code",
   "execution_count": null,
   "id": "3f78fb54",
   "metadata": {},
   "outputs": [],
   "source": [
    "import cv2\n",
    "import numpy as np\n",
    "# Read in the video from the camera\n",
    "video = cv2.VideoCapture(0)\n",
    "\n",
    "# Load the Haar cascade classifier for detecting faces\n",
    "# face_cascade = cv2.CascadeClassifier('haarcascade_frontalface_default.xml')\n",
    "\n",
    "# Loop through each frame of the video\n",
    "while True:\n",
    "    # Read the current frame\n",
    "    ret, frame = video.read()\n",
    "\n",
    "    frame_new = cartoon(frame)\n",
    "       \n",
    "\n",
    "    # Show the frame\n",
    "    cv2.imshow('Video', frame_new)\n",
    "\n",
    "    # Check if the user pressed the 'q' key\n",
    "    if cv2.waitKey(1) & 0xFF == ord('q'):\n",
    "        break\n",
    "\n",
    "# Release the video capture object and close all windows\n",
    "video.release()\n",
    "cv2.destroyAllWindows()"
   ]
  },
  {
   "cell_type": "code",
   "execution_count": null,
   "id": "844420f2",
   "metadata": {},
   "outputs": [],
   "source": []
  }
 ],
 "metadata": {
  "kernelspec": {
   "display_name": "Python 3 (ipykernel)",
   "language": "python",
   "name": "python3"
  },
  "language_info": {
   "codemirror_mode": {
    "name": "ipython",
    "version": 3
   },
   "file_extension": ".py",
   "mimetype": "text/x-python",
   "name": "python",
   "nbconvert_exporter": "python",
   "pygments_lexer": "ipython3",
   "version": "3.9.13"
  }
 },
 "nbformat": 4,
 "nbformat_minor": 5
}
