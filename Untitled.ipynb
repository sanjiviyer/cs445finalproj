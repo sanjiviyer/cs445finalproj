{
 "cells": [
  {
   "cell_type": "code",
   "execution_count": 15,
   "id": "93fbbd1d",
   "metadata": {},
   "outputs": [],
   "source": [
    "import cv2\n",
    "import numpy as np"
   ]
  },
  {
   "cell_type": "code",
   "execution_count": 16,
   "id": "63f44832",
   "metadata": {},
   "outputs": [],
   "source": [
    "classifier = cv2.CascadeClassifier('haarcascade_frontalface_default.xml')"
   ]
  },
  {
   "cell_type": "code",
   "execution_count": 17,
   "id": "6d4292fe",
   "metadata": {},
   "outputs": [],
   "source": [
    "im = cv2.imread('test1.jpg')\n",
    "im = cv2.cvtColor(im, cv2.COLOR_BGR2GRAY)\n",
    "bboxes = classifier.detectMultiScale(im)"
   ]
  },
  {
   "cell_type": "code",
   "execution_count": 18,
   "id": "5d84ec13",
   "metadata": {},
   "outputs": [],
   "source": [
    "for box in bboxes:\n",
    "    x, y, width, height = box\n",
    "    x2, y2 = x + width, y + height\n",
    "    image = cv2.rectangle(im, (x, y), (x2, y2), (0,0,255), 1)\n",
    "    image[y:y2, x:x2] = cv2.medianBlur(im[y:y2, x:x2], 35)"
   ]
  },
  {
   "cell_type": "code",
   "execution_count": 19,
   "id": "e6bdf683",
   "metadata": {},
   "outputs": [],
   "source": [
    "cv2.imshow('face detection', im)\n",
    "cv2.waitKey(0)\n",
    "cv2.destroyAllWindows()"
   ]
  },
  {
   "cell_type": "code",
   "execution_count": 12,
   "id": "110aea7d",
   "metadata": {},
   "outputs": [],
   "source": []
  },
  {
   "cell_type": "code",
   "execution_count": 14,
   "id": "111f99c4",
   "metadata": {},
   "outputs": [],
   "source": []
  },
  {
   "cell_type": "code",
   "execution_count": null,
   "id": "27f7d248",
   "metadata": {},
   "outputs": [],
   "source": []
  },
  {
   "cell_type": "code",
   "execution_count": null,
   "id": "0568f8d4",
   "metadata": {},
   "outputs": [],
   "source": []
  },
  {
   "cell_type": "code",
   "execution_count": null,
   "id": "ff003ca6",
   "metadata": {},
   "outputs": [],
   "source": []
  },
  {
   "cell_type": "code",
   "execution_count": null,
   "id": "2e3cd8ee",
   "metadata": {},
   "outputs": [],
   "source": []
  }
 ],
 "metadata": {
  "kernelspec": {
   "display_name": "Python 3 (ipykernel)",
   "language": "python",
   "name": "python3"
  },
  "language_info": {
   "codemirror_mode": {
    "name": "ipython",
    "version": 3
   },
   "file_extension": ".py",
   "mimetype": "text/x-python",
   "name": "python",
   "nbconvert_exporter": "python",
   "pygments_lexer": "ipython3",
   "version": "3.9.13"
  }
 },
 "nbformat": 4,
 "nbformat_minor": 5
}
